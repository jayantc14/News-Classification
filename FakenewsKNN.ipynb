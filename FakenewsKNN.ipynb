{
  "nbformat": 4,
  "nbformat_minor": 0,
  "metadata": {
    "colab": {
      "name": "FakenewsKNN.ipynb",
      "provenance": [],
      "collapsed_sections": [],
      "mount_file_id": "13ZH1d0qVMmh3U6kxS6rWbBOU5kbjOMka",
      "authorship_tag": "ABX9TyMmXgcIjLfpCjVz07/yEGjv",
      "include_colab_link": true
    },
    "kernelspec": {
      "name": "python3",
      "display_name": "Python 3"
    },
    "language_info": {
      "name": "python"
    }
  },
  "cells": [
    {
      "cell_type": "markdown",
      "metadata": {
        "id": "view-in-github",
        "colab_type": "text"
      },
      "source": [
        "<a href=\"https://colab.research.google.com/github/jayantc14/News-Classification/blob/main/FakenewsKNN.ipynb\" target=\"_parent\"><img src=\"https://colab.research.google.com/assets/colab-badge.svg\" alt=\"Open In Colab\"/></a>"
      ]
    },
    {
      "cell_type": "code",
      "metadata": {
        "id": "v5YqMRj-p5tl"
      },
      "source": [
        "import numpy as np \n",
        "import pandas as pd \n",
        "import sklearn\n",
        "import matplotlib.pyplot as plt\n",
        "import seaborn as sns\n",
        "\n",
        "from sklearn.model_selection import train_test_split\n",
        "from sklearn.model_selection import KFold\n",
        "from sklearn.model_selection import GridSearchCV\n",
        "from sklearn.model_selection import cross_val_score\n",
        "from sklearn.preprocessing import LabelEncoder\n",
        "from sklearn.tree import DecisionTreeClassifier\n",
        "from sklearn.ensemble import AdaBoostClassifier\n",
        "from sklearn.ensemble import GradientBoostingClassifier\n",
        "from sklearn import metrics\n",
        "from sklearn import preprocessing\n",
        "from sklearn.preprocessing import scale\n",
        "\n",
        "import xgboost as xgb\n",
        "from xgboost import XGBClassifier\n",
        "from xgboost import plot_importance\n",
        "import gc # for deleting unused variables\n",
        "%matplotlib inline\n"
      ],
      "execution_count": null,
      "outputs": []
    },
    {
      "cell_type": "code",
      "metadata": {
        "id": "yMtAnEiiq97H"
      },
      "source": [
        "df = pd.read_csv(\"/content/drive/MyDrive/IIM/data\")"
      ],
      "execution_count": null,
      "outputs": []
    },
    {
      "cell_type": "code",
      "metadata": {
        "id": "2yvkB4QZron2"
      },
      "source": [
        "df.drop(['Unnamed: 0'],axis = 1,inplace  = True)"
      ],
      "execution_count": null,
      "outputs": []
    },
    {
      "cell_type": "code",
      "metadata": {
        "colab": {
          "base_uri": "https://localhost:8080/",
          "height": 416
        },
        "id": "QWxCRfSfrpzu",
        "outputId": "f0ac14cb-8a5e-4382-c71f-ae3fb6366307"
      },
      "source": [
        "df"
      ],
      "execution_count": null,
      "outputs": [
        {
          "output_type": "execute_result",
          "data": {
            "text/html": [
              "<div>\n",
              "<style scoped>\n",
              "    .dataframe tbody tr th:only-of-type {\n",
              "        vertical-align: middle;\n",
              "    }\n",
              "\n",
              "    .dataframe tbody tr th {\n",
              "        vertical-align: top;\n",
              "    }\n",
              "\n",
              "    .dataframe thead th {\n",
              "        text-align: right;\n",
              "    }\n",
              "</style>\n",
              "<table border=\"1\" class=\"dataframe\">\n",
              "  <thead>\n",
              "    <tr style=\"text-align: right;\">\n",
              "      <th></th>\n",
              "      <th>Analytic</th>\n",
              "      <th>Authentic</th>\n",
              "      <th>Tone</th>\n",
              "      <th>WPS</th>\n",
              "      <th>Sixltr</th>\n",
              "      <th>number</th>\n",
              "      <th>quant</th>\n",
              "      <th>posemo</th>\n",
              "      <th>negemo</th>\n",
              "      <th>tentat</th>\n",
              "      <th>certain</th>\n",
              "      <th>achieve</th>\n",
              "      <th>power</th>\n",
              "      <th>reward</th>\n",
              "      <th>risk</th>\n",
              "      <th>focuspast</th>\n",
              "      <th>focuspresent</th>\n",
              "      <th>focusfuture</th>\n",
              "      <th>FREScore</th>\n",
              "      <th>target</th>\n",
              "    </tr>\n",
              "  </thead>\n",
              "  <tbody>\n",
              "    <tr>\n",
              "      <th>0</th>\n",
              "      <td>97.02</td>\n",
              "      <td>22.27</td>\n",
              "      <td>35.07</td>\n",
              "      <td>23.41</td>\n",
              "      <td>28.44</td>\n",
              "      <td>2.80</td>\n",
              "      <td>1.34</td>\n",
              "      <td>1.60</td>\n",
              "      <td>1.07</td>\n",
              "      <td>1.20</td>\n",
              "      <td>0.27</td>\n",
              "      <td>1.20</td>\n",
              "      <td>5.87</td>\n",
              "      <td>0.80</td>\n",
              "      <td>0.93</td>\n",
              "      <td>4.01</td>\n",
              "      <td>6.81</td>\n",
              "      <td>2.00</td>\n",
              "      <td>42.04</td>\n",
              "      <td>1</td>\n",
              "    </tr>\n",
              "    <tr>\n",
              "      <th>1</th>\n",
              "      <td>96.86</td>\n",
              "      <td>13.98</td>\n",
              "      <td>49.52</td>\n",
              "      <td>20.23</td>\n",
              "      <td>32.85</td>\n",
              "      <td>2.39</td>\n",
              "      <td>1.28</td>\n",
              "      <td>2.71</td>\n",
              "      <td>1.44</td>\n",
              "      <td>0.96</td>\n",
              "      <td>0.48</td>\n",
              "      <td>0.96</td>\n",
              "      <td>8.61</td>\n",
              "      <td>0.80</td>\n",
              "      <td>1.12</td>\n",
              "      <td>3.83</td>\n",
              "      <td>5.10</td>\n",
              "      <td>2.07</td>\n",
              "      <td>32.57</td>\n",
              "      <td>1</td>\n",
              "    </tr>\n",
              "    <tr>\n",
              "      <th>2</th>\n",
              "      <td>94.73</td>\n",
              "      <td>16.26</td>\n",
              "      <td>29.43</td>\n",
              "      <td>24.05</td>\n",
              "      <td>27.35</td>\n",
              "      <td>0.88</td>\n",
              "      <td>1.75</td>\n",
              "      <td>1.09</td>\n",
              "      <td>0.88</td>\n",
              "      <td>3.94</td>\n",
              "      <td>0.66</td>\n",
              "      <td>0.66</td>\n",
              "      <td>6.13</td>\n",
              "      <td>0.44</td>\n",
              "      <td>0.00</td>\n",
              "      <td>5.47</td>\n",
              "      <td>5.47</td>\n",
              "      <td>1.97</td>\n",
              "      <td>39.91</td>\n",
              "      <td>1</td>\n",
              "    </tr>\n",
              "    <tr>\n",
              "      <th>3</th>\n",
              "      <td>96.40</td>\n",
              "      <td>12.12</td>\n",
              "      <td>55.62</td>\n",
              "      <td>22.29</td>\n",
              "      <td>32.19</td>\n",
              "      <td>2.11</td>\n",
              "      <td>0.53</td>\n",
              "      <td>2.11</td>\n",
              "      <td>0.53</td>\n",
              "      <td>1.32</td>\n",
              "      <td>0.26</td>\n",
              "      <td>1.32</td>\n",
              "      <td>6.60</td>\n",
              "      <td>0.53</td>\n",
              "      <td>0.00</td>\n",
              "      <td>6.33</td>\n",
              "      <td>3.43</td>\n",
              "      <td>0.53</td>\n",
              "      <td>45.49</td>\n",
              "      <td>1</td>\n",
              "    </tr>\n",
              "    <tr>\n",
              "      <th>4</th>\n",
              "      <td>96.29</td>\n",
              "      <td>22.73</td>\n",
              "      <td>15.88</td>\n",
              "      <td>22.05</td>\n",
              "      <td>27.21</td>\n",
              "      <td>4.19</td>\n",
              "      <td>3.14</td>\n",
              "      <td>1.16</td>\n",
              "      <td>1.86</td>\n",
              "      <td>0.93</td>\n",
              "      <td>0.81</td>\n",
              "      <td>0.81</td>\n",
              "      <td>3.60</td>\n",
              "      <td>0.70</td>\n",
              "      <td>0.93</td>\n",
              "      <td>3.49</td>\n",
              "      <td>5.47</td>\n",
              "      <td>0.23</td>\n",
              "      <td>50.80</td>\n",
              "      <td>1</td>\n",
              "    </tr>\n",
              "    <tr>\n",
              "      <th>...</th>\n",
              "      <td>...</td>\n",
              "      <td>...</td>\n",
              "      <td>...</td>\n",
              "      <td>...</td>\n",
              "      <td>...</td>\n",
              "      <td>...</td>\n",
              "      <td>...</td>\n",
              "      <td>...</td>\n",
              "      <td>...</td>\n",
              "      <td>...</td>\n",
              "      <td>...</td>\n",
              "      <td>...</td>\n",
              "      <td>...</td>\n",
              "      <td>...</td>\n",
              "      <td>...</td>\n",
              "      <td>...</td>\n",
              "      <td>...</td>\n",
              "      <td>...</td>\n",
              "      <td>...</td>\n",
              "      <td>...</td>\n",
              "    </tr>\n",
              "    <tr>\n",
              "      <th>44873</th>\n",
              "      <td>96.34</td>\n",
              "      <td>16.74</td>\n",
              "      <td>46.26</td>\n",
              "      <td>49.00</td>\n",
              "      <td>28.01</td>\n",
              "      <td>1.11</td>\n",
              "      <td>2.04</td>\n",
              "      <td>3.90</td>\n",
              "      <td>2.78</td>\n",
              "      <td>2.60</td>\n",
              "      <td>0.93</td>\n",
              "      <td>0.74</td>\n",
              "      <td>3.15</td>\n",
              "      <td>0.93</td>\n",
              "      <td>0.37</td>\n",
              "      <td>5.19</td>\n",
              "      <td>3.71</td>\n",
              "      <td>0.37</td>\n",
              "      <td>22.35</td>\n",
              "      <td>0</td>\n",
              "    </tr>\n",
              "    <tr>\n",
              "      <th>44874</th>\n",
              "      <td>94.03</td>\n",
              "      <td>14.89</td>\n",
              "      <td>56.75</td>\n",
              "      <td>27.73</td>\n",
              "      <td>19.02</td>\n",
              "      <td>3.28</td>\n",
              "      <td>1.97</td>\n",
              "      <td>2.95</td>\n",
              "      <td>1.31</td>\n",
              "      <td>1.97</td>\n",
              "      <td>0.33</td>\n",
              "      <td>2.30</td>\n",
              "      <td>5.57</td>\n",
              "      <td>2.30</td>\n",
              "      <td>0.33</td>\n",
              "      <td>3.93</td>\n",
              "      <td>6.23</td>\n",
              "      <td>0.98</td>\n",
              "      <td>51.41</td>\n",
              "      <td>0</td>\n",
              "    </tr>\n",
              "    <tr>\n",
              "      <th>44875</th>\n",
              "      <td>90.88</td>\n",
              "      <td>33.24</td>\n",
              "      <td>22.15</td>\n",
              "      <td>38.88</td>\n",
              "      <td>22.66</td>\n",
              "      <td>1.59</td>\n",
              "      <td>1.99</td>\n",
              "      <td>2.48</td>\n",
              "      <td>2.71</td>\n",
              "      <td>2.22</td>\n",
              "      <td>1.54</td>\n",
              "      <td>1.68</td>\n",
              "      <td>4.68</td>\n",
              "      <td>0.77</td>\n",
              "      <td>1.03</td>\n",
              "      <td>2.83</td>\n",
              "      <td>5.94</td>\n",
              "      <td>1.52</td>\n",
              "      <td>28.24</td>\n",
              "      <td>0</td>\n",
              "    </tr>\n",
              "    <tr>\n",
              "      <th>44876</th>\n",
              "      <td>91.99</td>\n",
              "      <td>25.14</td>\n",
              "      <td>49.16</td>\n",
              "      <td>47.70</td>\n",
              "      <td>20.34</td>\n",
              "      <td>4.40</td>\n",
              "      <td>2.31</td>\n",
              "      <td>2.52</td>\n",
              "      <td>1.26</td>\n",
              "      <td>1.05</td>\n",
              "      <td>2.10</td>\n",
              "      <td>2.10</td>\n",
              "      <td>3.14</td>\n",
              "      <td>1.68</td>\n",
              "      <td>1.05</td>\n",
              "      <td>3.77</td>\n",
              "      <td>7.13</td>\n",
              "      <td>0.84</td>\n",
              "      <td>27.16</td>\n",
              "      <td>0</td>\n",
              "    </tr>\n",
              "    <tr>\n",
              "      <th>44877</th>\n",
              "      <td>95.49</td>\n",
              "      <td>21.45</td>\n",
              "      <td>10.28</td>\n",
              "      <td>35.68</td>\n",
              "      <td>23.54</td>\n",
              "      <td>1.23</td>\n",
              "      <td>1.35</td>\n",
              "      <td>1.01</td>\n",
              "      <td>2.24</td>\n",
              "      <td>0.90</td>\n",
              "      <td>0.78</td>\n",
              "      <td>1.23</td>\n",
              "      <td>4.26</td>\n",
              "      <td>0.78</td>\n",
              "      <td>1.79</td>\n",
              "      <td>4.48</td>\n",
              "      <td>6.61</td>\n",
              "      <td>1.46</td>\n",
              "      <td>48.88</td>\n",
              "      <td>0</td>\n",
              "    </tr>\n",
              "  </tbody>\n",
              "</table>\n",
              "<p>44878 rows × 20 columns</p>\n",
              "</div>"
            ],
            "text/plain": [
              "       Analytic  Authentic   Tone  ...  focusfuture  FREScore  target\n",
              "0         97.02      22.27  35.07  ...         2.00     42.04       1\n",
              "1         96.86      13.98  49.52  ...         2.07     32.57       1\n",
              "2         94.73      16.26  29.43  ...         1.97     39.91       1\n",
              "3         96.40      12.12  55.62  ...         0.53     45.49       1\n",
              "4         96.29      22.73  15.88  ...         0.23     50.80       1\n",
              "...         ...        ...    ...  ...          ...       ...     ...\n",
              "44873     96.34      16.74  46.26  ...         0.37     22.35       0\n",
              "44874     94.03      14.89  56.75  ...         0.98     51.41       0\n",
              "44875     90.88      33.24  22.15  ...         1.52     28.24       0\n",
              "44876     91.99      25.14  49.16  ...         0.84     27.16       0\n",
              "44877     95.49      21.45  10.28  ...         1.46     48.88       0\n",
              "\n",
              "[44878 rows x 20 columns]"
            ]
          },
          "metadata": {
            "tags": []
          },
          "execution_count": 34
        }
      ]
    },
    {
      "cell_type": "code",
      "metadata": {
        "id": "zR6BMAzqr7HF"
      },
      "source": [
        ""
      ],
      "execution_count": null,
      "outputs": []
    },
    {
      "cell_type": "code",
      "metadata": {
        "id": "Hh9SIcVL4gTH"
      },
      "source": [
        "y = df['target']"
      ],
      "execution_count": null,
      "outputs": []
    },
    {
      "cell_type": "code",
      "metadata": {
        "id": "914pZyHH4toD"
      },
      "source": [
        "X = df.drop(['target'],axis = 1)"
      ],
      "execution_count": null,
      "outputs": []
    },
    {
      "cell_type": "code",
      "metadata": {
        "id": "HV0Ng2FisXsC"
      },
      "source": [
        "from sklearn.model_selection import train_test_split"
      ],
      "execution_count": null,
      "outputs": []
    },
    {
      "cell_type": "code",
      "metadata": {
        "id": "tx_Auaexw3vB"
      },
      "source": [
        "def normalize (x): \n",
        "    return ( (x-np.min(x))/ (max(x) - min(x)))\n",
        "                                            \n",
        "                                              \n",
        "# applying normalize ( ) to all columns \n",
        "X = X.apply(normalize) "
      ],
      "execution_count": null,
      "outputs": []
    },
    {
      "cell_type": "code",
      "metadata": {
        "id": "qzVNY9rAxbay"
      },
      "source": [
        "# scaling the features\n",
        "#from sklearn.preprocessing import StandardScaler\n",
        "#scaler = StandardScaler()\n",
        "#X = scaler.fit_transform(X)\n"
      ],
      "execution_count": null,
      "outputs": []
    },
    {
      "cell_type": "code",
      "metadata": {
        "id": "lPg2mFI6tdyH"
      },
      "source": [
        "# Splitting the data into train and test\n",
        "X_train, X_test, y_train, y_test = train_test_split(X,y, train_size=0.7,test_size=0.3,random_state=100)"
      ],
      "execution_count": null,
      "outputs": []
    },
    {
      "cell_type": "code",
      "metadata": {
        "id": "VcEbbII1t1aj"
      },
      "source": [
        "# scaling the features\n",
        "#from sklearn.preprocessing import StandardScaler\n",
        "#scaler = StandardScaler()\n",
        "#X_train_scaled = scaler.fit_transform(X_train)\n",
        "#X_test_scaled = scaler.transform(X_test)"
      ],
      "execution_count": null,
      "outputs": []
    },
    {
      "cell_type": "code",
      "metadata": {
        "colab": {
          "base_uri": "https://localhost:8080/"
        },
        "id": "8lw0LQBHthdN",
        "outputId": "656f2caf-33c7-40db-fcb0-de0a1e7a728c"
      },
      "source": [
        "print(X_train.shape)\n",
        "print(y_train.shape)\n",
        "print(X_test.shape)\n",
        "print(y_test.shape)"
      ],
      "execution_count": null,
      "outputs": [
        {
          "output_type": "stream",
          "text": [
            "(31414, 19)\n",
            "(31414,)\n",
            "(13464, 19)\n",
            "(13464,)\n"
          ],
          "name": "stdout"
        }
      ]
    },
    {
      "cell_type": "code",
      "metadata": {
        "id": "teBpvqdwXXDg"
      },
      "source": [
        "#Import knearest neighbors Classifier model\n",
        "from sklearn.neighbors import KNeighborsClassifier\n",
        "\n",
        "#Create KNN Classifier\n",
        "knn = KNeighborsClassifier(n_neighbors=7)\n",
        "\n",
        "#Train the model using the training sets\n",
        "knn.fit(X_train, y_train)\n",
        "\n",
        "#Predict the response for test dataset\n",
        "y_pred = knn.predict(X_test)"
      ],
      "execution_count": null,
      "outputs": []
    },
    {
      "cell_type": "code",
      "metadata": {
        "colab": {
          "base_uri": "https://localhost:8080/"
        },
        "id": "3T6QaaTtx0IC",
        "outputId": "e7a028e4-a71f-49bc-e088-2ed36609fca5"
      },
      "source": [
        "# fit model on training data with default hyperparameters\n",
        "\n",
        "from sklearn import metrics\n",
        "# Model Accuracy, how often is the classifier correct?\n",
        "print(\"Accuracy:\",metrics.accuracy_score(y_test, y_pred))"
      ],
      "execution_count": null,
      "outputs": [
        {
          "output_type": "stream",
          "text": [
            "Accuracy: 0.8353386809269162\n"
          ],
          "name": "stdout"
        }
      ]
    },
    {
      "cell_type": "code",
      "metadata": {
        "id": "HflGlD8-tztD"
      },
      "source": [
        ""
      ],
      "execution_count": null,
      "outputs": []
    },
    {
      "cell_type": "code",
      "metadata": {
        "colab": {
          "base_uri": "https://localhost:8080/"
        },
        "id": "l_RTs2HXvzWF",
        "outputId": "fddfb924-31ee-45cc-ce4a-c1860a6f66c6"
      },
      "source": [
        "print(metrics.confusion_matrix(y_test, y_pred))"
      ],
      "execution_count": null,
      "outputs": [
        {
          "output_type": "stream",
          "text": [
            "[[5730 1327]\n",
            " [ 890 5517]]\n"
          ],
          "name": "stdout"
        }
      ]
    },
    {
      "cell_type": "code",
      "metadata": {
        "colab": {
          "base_uri": "https://localhost:8080/"
        },
        "id": "OLUGoLiLv3u3",
        "outputId": "8c7015a2-5730-4fea-ff0a-37354413c735"
      },
      "source": [
        "print(metrics.classification_report(y_test, y_pred))"
      ],
      "execution_count": null,
      "outputs": [
        {
          "output_type": "stream",
          "text": [
            "              precision    recall  f1-score   support\n",
            "\n",
            "           0       0.87      0.81      0.84      7057\n",
            "           1       0.81      0.86      0.83      6407\n",
            "\n",
            "    accuracy                           0.84     13464\n",
            "   macro avg       0.84      0.84      0.84     13464\n",
            "weighted avg       0.84      0.84      0.84     13464\n",
            "\n"
          ],
          "name": "stdout"
        }
      ]
    },
    {
      "cell_type": "code",
      "metadata": {
        "id": "hE9fwpNA9OnT"
      },
      "source": [
        ""
      ],
      "execution_count": null,
      "outputs": []
    },
    {
      "cell_type": "code",
      "metadata": {
        "id": "tIh4XTFbIrzK"
      },
      "source": [
        ""
      ],
      "execution_count": null,
      "outputs": []
    },
    {
      "cell_type": "markdown",
      "metadata": {
        "id": "UY-cFOCJIpXR"
      },
      "source": [
        "## **Changing  K**"
      ]
    },
    {
      "cell_type": "code",
      "metadata": {
        "id": "uQAlSScuIzCs"
      },
      "source": [
        "knn = KNeighborsClassifier(n_neighbors=9)\n",
        "\n",
        "#Train the model using the training sets\n",
        "knn.fit(X_train, y_train)\n",
        "\n",
        "#Predict the response for test dataset\n",
        "y_pred = knn.predict(X_test)"
      ],
      "execution_count": null,
      "outputs": []
    },
    {
      "cell_type": "code",
      "metadata": {
        "colab": {
          "base_uri": "https://localhost:8080/"
        },
        "id": "QkUQRb28I2yD",
        "outputId": "c302acc1-b5ec-492f-9697-0643e0945ee6"
      },
      "source": [
        "# fit model on training data with default hyperparameters\n",
        "\n",
        "from sklearn import metrics\n",
        "# Model Accuracy, how often is the classifier correct?\n",
        "print(\"Accuracy:\",metrics.accuracy_score(y_test, y_pred))"
      ],
      "execution_count": null,
      "outputs": [
        {
          "output_type": "stream",
          "text": [
            "Accuracy: 0.839572192513369\n"
          ],
          "name": "stdout"
        }
      ]
    },
    {
      "cell_type": "code",
      "metadata": {
        "id": "iKX2oMofI20z"
      },
      "source": [
        ""
      ],
      "execution_count": null,
      "outputs": []
    },
    {
      "cell_type": "code",
      "metadata": {
        "id": "UWqC0pMmJAdu"
      },
      "source": [
        "knn = KNeighborsClassifier(n_neighbors=17)\n",
        "\n",
        "#Train the model using the training sets\n",
        "knn.fit(X_train, y_train)\n",
        "\n",
        "#Predict the response for test dataset\n",
        "y_pred = knn.predict(X_test)"
      ],
      "execution_count": null,
      "outputs": []
    },
    {
      "cell_type": "code",
      "metadata": {
        "colab": {
          "base_uri": "https://localhost:8080/"
        },
        "id": "2hJKa9ZPJAdv",
        "outputId": "68f430c0-ca2c-44cc-ac8a-50b7a721bc24"
      },
      "source": [
        "# fit model on training data with default hyperparameters\n",
        "\n",
        "from sklearn import metrics\n",
        "# Model Accuracy, how often is the classifier correct?\n",
        "print(\"Accuracy:\",metrics.accuracy_score(y_test, y_pred))"
      ],
      "execution_count": null,
      "outputs": [
        {
          "output_type": "stream",
          "text": [
            "Accuracy: 0.8401663695781343\n"
          ],
          "name": "stdout"
        }
      ]
    },
    {
      "cell_type": "code",
      "metadata": {
        "id": "hCsgpcEZI24c",
        "colab": {
          "base_uri": "https://localhost:8080/"
        },
        "outputId": "b858010e-487e-4bff-b301-09909ff1ba97"
      },
      "source": [
        "print(metrics.classification_report(y_test, y_pred))"
      ],
      "execution_count": null,
      "outputs": [
        {
          "output_type": "stream",
          "text": [
            "              precision    recall  f1-score   support\n",
            "\n",
            "           0       0.88      0.80      0.84      7057\n",
            "           1       0.80      0.88      0.84      6407\n",
            "\n",
            "    accuracy                           0.84     13464\n",
            "   macro avg       0.84      0.84      0.84     13464\n",
            "weighted avg       0.84      0.84      0.84     13464\n",
            "\n"
          ],
          "name": "stdout"
        }
      ]
    },
    {
      "cell_type": "code",
      "metadata": {
        "id": "O5rEo8V2VoVt"
      },
      "source": [
        ""
      ],
      "execution_count": null,
      "outputs": []
    }
  ]
}